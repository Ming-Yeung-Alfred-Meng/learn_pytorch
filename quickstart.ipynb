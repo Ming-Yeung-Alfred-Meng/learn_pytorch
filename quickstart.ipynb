{
 "cells": [
  {
   "cell_type": "code",
   "execution_count": 1,
   "id": "initial_id",
   "metadata": {
    "collapsed": true,
    "ExecuteTime": {
     "end_time": "2023-10-06T21:47:12.331531300Z",
     "start_time": "2023-10-06T21:47:08.425831300Z"
    }
   },
   "outputs": [],
   "source": [
    "import torch\n",
    "import torchvision.utils\n",
    "from torch import nn\n",
    "from torch.utils.data import DataLoader\n",
    "import torchvision\n",
    "from torchvision import datasets\n",
    "from torchvision.transforms import ToTensor\n",
    "import matplotlib.pyplot as plt\n",
    "from torch.utils.tensorboard import SummaryWriter\n",
    "\n",
    "import importlib\n",
    "import scripts as s\n",
    "\n",
    "# In an environment with TensorFlow installed, e.g. Google Colab, uncomment the following code:\n",
    "\n",
    "# import tensorflow as tf\n",
    "# import tensorboard as tb\n",
    "# tf.io.gfile = tb.compat.tensorflow_stub.io.gfile"
   ]
  },
  {
   "cell_type": "code",
   "execution_count": 20,
   "outputs": [
    {
     "data": {
      "text/plain": "<module 'scripts' from 'C:\\\\Users\\\\Alfred\\\\Documents\\\\learn_pytorch\\\\scripts.py'>"
     },
     "execution_count": 20,
     "metadata": {},
     "output_type": "execute_result"
    }
   ],
   "source": [
    "importlib.reload(s)"
   ],
   "metadata": {
    "collapsed": false,
    "ExecuteTime": {
     "end_time": "2023-10-06T22:00:59.127537100Z",
     "start_time": "2023-10-06T22:00:59.117604100Z"
    }
   },
   "id": "431da0910676e367"
  },
  {
   "cell_type": "code",
   "execution_count": 3,
   "outputs": [
    {
     "name": "stdout",
     "output_type": "stream",
     "text": [
      "Using cuda device\n"
     ]
    }
   ],
   "source": [
    "classes = [\"T-shirt/top\",\n",
    "           \"Trouser\",\n",
    "           \"Pullover\",\n",
    "           \"Dress\",\n",
    "           \"Coat\",\n",
    "           \"Sandal\",\n",
    "           \"Shirt\",\n",
    "           \"Sneaker\",\n",
    "           \"Bag\",\n",
    "           \"Ankle book\"]\n",
    "\n",
    "device = (\n",
    "    \"cuda\"\n",
    "    if torch.cuda.is_available()\n",
    "    else \"mps\"\n",
    "    if torch.backends.mps.is_available()\n",
    "    else \"cpu\"\n",
    ")\n",
    "print(f\"Using {device} device\")\n",
    "\n",
    "writer = SummaryWriter(\"runs/fashion_mnist_experiment\")"
   ],
   "metadata": {
    "collapsed": false,
    "ExecuteTime": {
     "end_time": "2023-10-06T21:47:12.425672700Z",
     "start_time": "2023-10-06T21:47:12.353036300Z"
    }
   },
   "id": "a3d4d814268e776e"
  },
  {
   "cell_type": "markdown",
   "source": [
    "# Hyperparameters"
   ],
   "metadata": {
    "collapsed": false
   },
   "id": "4a6773791dfd0c70"
  },
  {
   "cell_type": "code",
   "execution_count": 47,
   "outputs": [
    {
     "name": "stdout",
     "output_type": "stream",
     "text": [
      "NeuralNetwork(\n",
      "  (flatten): Flatten(start_dim=1, end_dim=-1)\n",
      "  (linear_relu_stack): Sequential(\n",
      "    (0): Linear(in_features=784, out_features=512, bias=True)\n",
      "    (1): ReLU()\n",
      "    (2): Linear(in_features=512, out_features=512, bias=True)\n",
      "    (3): ReLU()\n",
      "    (4): Linear(in_features=512, out_features=10, bias=True)\n",
      "  )\n",
      ")\n"
     ]
    }
   ],
   "source": [
    "model = s.NeuralNetwork().to(device)\n",
    "print(model)"
   ],
   "metadata": {
    "collapsed": false,
    "ExecuteTime": {
     "end_time": "2023-10-06T22:21:16.608912600Z",
     "start_time": "2023-10-06T22:21:16.598664500Z"
    }
   },
   "id": "ecc18f70653da938"
  },
  {
   "cell_type": "code",
   "execution_count": 48,
   "outputs": [],
   "source": [
    "batch_size = 128"
   ],
   "metadata": {
    "collapsed": false,
    "ExecuteTime": {
     "end_time": "2023-10-06T22:21:17.268477600Z",
     "start_time": "2023-10-06T22:21:17.261855200Z"
    }
   },
   "id": "36c581288dc79f7f"
  },
  {
   "cell_type": "code",
   "execution_count": 49,
   "outputs": [],
   "source": [
    "epochs = 5"
   ],
   "metadata": {
    "collapsed": false,
    "ExecuteTime": {
     "end_time": "2023-10-06T22:21:17.654108100Z",
     "start_time": "2023-10-06T22:21:17.648615300Z"
    }
   },
   "id": "85c0db21bba047b3"
  },
  {
   "cell_type": "code",
   "execution_count": 58,
   "outputs": [],
   "source": [
    "learning_rate = 0.001"
   ],
   "metadata": {
    "collapsed": false,
    "ExecuteTime": {
     "end_time": "2023-10-06T22:31:38.917739800Z",
     "start_time": "2023-10-06T22:31:38.905266400Z"
    }
   },
   "id": "989a24bb7916525d"
  },
  {
   "cell_type": "code",
   "execution_count": 50,
   "outputs": [],
   "source": [
    "loss_fn = nn.CrossEntropyLoss()"
   ],
   "metadata": {
    "collapsed": false,
    "ExecuteTime": {
     "end_time": "2023-10-06T22:21:18.475426Z",
     "start_time": "2023-10-06T22:21:18.471430100Z"
    }
   },
   "id": "7b94b03c6205db3f"
  },
  {
   "cell_type": "code",
   "execution_count": 57,
   "outputs": [],
   "source": [
    "optimizer = torch.optim.Adam(model.parameters(), lr=learning_rate)"
   ],
   "metadata": {
    "collapsed": false,
    "ExecuteTime": {
     "end_time": "2023-10-06T22:30:30.745052800Z",
     "start_time": "2023-10-06T22:30:30.736871500Z"
    }
   },
   "id": "58ee3bac5ae04649"
  },
  {
   "cell_type": "markdown",
   "source": [
    "# Data"
   ],
   "metadata": {
    "collapsed": false
   },
   "id": "81649008444a9db1"
  },
  {
   "cell_type": "code",
   "execution_count": 9,
   "outputs": [],
   "source": [
    "training_data = datasets.FashionMNIST(root=\"data\",\n",
    "                                      train=True,\n",
    "                                      download=True,\n",
    "                                      transform=ToTensor())\n",
    "\n",
    "test_data = datasets.FashionMNIST(root=\"data\",\n",
    "                                  train=False,\n",
    "                                  download=True,\n",
    "                                  transform=ToTensor())"
   ],
   "metadata": {
    "collapsed": false,
    "ExecuteTime": {
     "end_time": "2023-10-06T21:47:14.761572700Z",
     "start_time": "2023-10-06T21:47:14.650407200Z"
    }
   },
   "id": "1a8e5c9fe8894047"
  },
  {
   "cell_type": "code",
   "execution_count": 10,
   "outputs": [
    {
     "data": {
      "text/plain": "(torch.Size([1, 28, 28]),\n Dataset FashionMNIST\n     Number of datapoints: 60000\n     Root location: data\n     Split: Train\n     StandardTransform\n Transform: ToTensor())"
     },
     "execution_count": 10,
     "metadata": {},
     "output_type": "execute_result"
    }
   ],
   "source": [
    "training_data[0][0].shape, training_data"
   ],
   "metadata": {
    "collapsed": false,
    "ExecuteTime": {
     "end_time": "2023-10-06T21:47:15.086695800Z",
     "start_time": "2023-10-06T21:47:15.070788700Z"
    }
   },
   "id": "4baaefa4375f4e74"
  },
  {
   "cell_type": "code",
   "execution_count": 11,
   "outputs": [
    {
     "data": {
      "text/plain": "<Figure size 800x800 with 9 Axes>",
      "image/png": "[encoded data removed]"
     },
     "metadata": {},
     "output_type": "display_data"
    }
   ],
   "source": [
    "s.peek_dataset(training_data, classes, 3, 3)"
   ],
   "metadata": {
    "collapsed": false,
    "ExecuteTime": {
     "end_time": "2023-10-06T21:47:16.406385900Z",
     "start_time": "2023-10-06T21:47:15.782021500Z"
    }
   },
   "id": "25f6a47a46aac6e"
  },
  {
   "cell_type": "code",
   "execution_count": null,
   "outputs": [],
   "source": [
    "train_dataloader = DataLoader(training_data, batch_size=batch_size, shuffle=True)\n",
    "test_dataloader = DataLoader(test_data, batch_size=batch_size, shuffle=True)\n",
    "\n",
    "first_batch_images, first_batch_labels = next(iter(train_dataloader))\n",
    "print(f\"Shape of first batch of images: {first_batch_images.shape}\")\n",
    "print(f\"Shape of first batch of labels: {first_batch_labels.shape}\")\n",
    "\n",
    "plt.imshow(first_batch_images[0].squeeze(), cmap=\"gray\")\n",
    "plt.title(classes[first_batch_labels[0]])\n",
    "plt.show()"
   ],
   "metadata": {
    "collapsed": false
   },
   "id": "36f01b634a71c056"
  },
  {
   "cell_type": "markdown",
   "source": [
    "# Training"
   ],
   "metadata": {
    "collapsed": false
   },
   "id": "6c9cad1774e7a233"
  },
  {
   "cell_type": "code",
   "execution_count": null,
   "outputs": [],
   "source": [
    "for t in range(epochs):\n",
    "    print(f\"Epoch {t + 1}\\n-------------------------------------\")\n",
    "    s.train(train_dataloader, model, loss_fn, optimizer, device)\n",
    "    s.test(test_dataloader, model, loss_fn, device)\n",
    "\n",
    "print(\"Done!\")"
   ],
   "metadata": {
    "collapsed": false
   },
   "id": "556b3d4fb6a70537"
  },
  {
   "cell_type": "code",
   "execution_count": 59,
   "outputs": [
    {
     "name": "stdout",
     "output_type": "stream",
     "text": [
      "Done!\n"
     ]
    }
   ],
   "source": [
    "for t in range(epochs):\n",
    "    s.train_with_validation(train_dataloader, \n",
    "                            test_dataloader, \n",
    "                            model, \n",
    "                            loss_fn, optimizer, device,\n",
    "                            writer, 100, t, f\"batch size = {batch_size} epoch = {epochs} learning rate = {learning_rate} trial = 7\")\n",
    "\n",
    "print(\"Done!\")"
   ],
   "metadata": {
    "collapsed": false,
    "ExecuteTime": {
     "end_time": "2023-10-06T22:32:57.391842200Z",
     "start_time": "2023-10-06T22:31:58.279833Z"
    }
   },
   "id": "377bc9b8fff1f4a1"
  },
  {
   "cell_type": "code",
   "execution_count": 60,
   "outputs": [
    {
     "data": {
      "text/plain": "(0.7537729528885854, 0.7118)"
     },
     "execution_count": 60,
     "metadata": {},
     "output_type": "execute_result"
    }
   ],
   "source": [
    "s.test(test_dataloader, model, loss_fn, device)"
   ],
   "metadata": {
    "collapsed": false,
    "ExecuteTime": {
     "end_time": "2023-10-06T22:33:51.747125Z",
     "start_time": "2023-10-06T22:33:50.542620600Z"
    }
   },
   "id": "478b7921b539df0"
  },
  {
   "cell_type": "markdown",
   "source": [
    "# Save and Load"
   ],
   "metadata": {
    "collapsed": false,
    "ExecuteTime": {
     "end_time": "2023-10-06T21:44:50.285513900Z",
     "start_time": "2023-10-06T21:44:50.263739600Z"
    }
   },
   "id": "3adb224c9090cdfd"
  },
  {
   "cell_type": "code",
   "execution_count": null,
   "outputs": [],
   "source": [
    "torch.save(model.state_dict(), \"model.pth\")\n",
    "print(\"Saved PyTorch Model State to model.pth\")"
   ],
   "metadata": {
    "collapsed": false
   },
   "id": "9720cc249f82363c"
  },
  {
   "cell_type": "code",
   "execution_count": null,
   "outputs": [],
   "source": [
    "model_loaded = s.NeuralNetwork().to(device)\n",
    "model.load_state_dict(torch.load(\"model.pth\"))"
   ],
   "metadata": {
    "collapsed": false
   },
   "id": "8289b17b2a7a4dc3"
  },
  {
   "cell_type": "code",
   "execution_count": null,
   "outputs": [],
   "source": [
    "model.eval()\n",
    "x, y = test_data[0][0], test_data[0][1]\n",
    "with torch.no_grad():\n",
    "    x = x.to(device)\n",
    "    pred = model(x)\n",
    "    predicted, actual = classes[pred[0].argmax(0)], classes[y]\n",
    "    print(f'Predicted: \"{predicted}\", Actual: \"{actual}\"')"
   ],
   "metadata": {
    "collapsed": false
   },
   "id": "9d71fb7003b62582"
  }
 ],
 "metadata": {
  "kernelspec": {
   "display_name": "Python 3",
   "language": "python",
   "name": "python3"
  },
  "language_info": {
   "codemirror_mode": {
    "name": "ipython",
    "version": 2
   },
   "file_extension": ".py",
   "mimetype": "text/x-python",
   "name": "python",
   "nbconvert_exporter": "python",
   "pygments_lexer": "ipython2",
   "version": "2.7.6"
  }
 },
 "nbformat": 4,
 "nbformat_minor": 5
}
